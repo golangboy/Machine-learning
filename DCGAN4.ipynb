{
 "cells": [
  {
   "cell_type": "code",
   "execution_count": null,
   "outputs": [
    {
     "name": "stdout",
     "output_type": "stream",
     "text": [
      "Downloading http://yann.lecun.com/exdb/mnist/train-images-idx3-ubyte.gz\n",
      "Downloading http://yann.lecun.com/exdb/mnist/train-images-idx3-ubyte.gz to ./data/MNIST/raw/train-images-idx3-ubyte.gz\n"
     ]
    },
    {
     "data": {
      "text/plain": "  0%|          | 0/9912422 [00:00<?, ?it/s]",
      "application/vnd.jupyter.widget-view+json": {
       "version_major": 2,
       "version_minor": 0,
       "model_id": "29e8a2084662445d94f5aa8d57622e95"
      }
     },
     "metadata": {},
     "output_type": "display_data"
    },
    {
     "name": "stdout",
     "output_type": "stream",
     "text": [
      "Extracting ./data/MNIST/raw/train-images-idx3-ubyte.gz to ./data/MNIST/raw\n",
      "\n",
      "Downloading http://yann.lecun.com/exdb/mnist/train-labels-idx1-ubyte.gz\n",
      "Downloading http://yann.lecun.com/exdb/mnist/train-labels-idx1-ubyte.gz to ./data/MNIST/raw/train-labels-idx1-ubyte.gz\n"
     ]
    },
    {
     "data": {
      "text/plain": "  0%|          | 0/28881 [00:00<?, ?it/s]",
      "application/vnd.jupyter.widget-view+json": {
       "version_major": 2,
       "version_minor": 0,
       "model_id": "d30e390a13f1417a89963c84e4c4e06f"
      }
     },
     "metadata": {},
     "output_type": "display_data"
    },
    {
     "name": "stdout",
     "output_type": "stream",
     "text": [
      "Extracting ./data/MNIST/raw/train-labels-idx1-ubyte.gz to ./data/MNIST/raw\n",
      "\n",
      "Downloading http://yann.lecun.com/exdb/mnist/t10k-images-idx3-ubyte.gz\n",
      "Downloading http://yann.lecun.com/exdb/mnist/t10k-images-idx3-ubyte.gz to ./data/MNIST/raw/t10k-images-idx3-ubyte.gz\n"
     ]
    },
    {
     "data": {
      "text/plain": "  0%|          | 0/1648877 [00:00<?, ?it/s]",
      "application/vnd.jupyter.widget-view+json": {
       "version_major": 2,
       "version_minor": 0,
       "model_id": "a71cbc0b12e843ddb4b873f46dac9ae2"
      }
     },
     "metadata": {},
     "output_type": "display_data"
    },
    {
     "name": "stdout",
     "output_type": "stream",
     "text": [
      "Extracting ./data/MNIST/raw/t10k-images-idx3-ubyte.gz to ./data/MNIST/raw\n",
      "\n",
      "Downloading http://yann.lecun.com/exdb/mnist/t10k-labels-idx1-ubyte.gz\n",
      "Downloading http://yann.lecun.com/exdb/mnist/t10k-labels-idx1-ubyte.gz to ./data/MNIST/raw/t10k-labels-idx1-ubyte.gz\n"
     ]
    },
    {
     "data": {
      "text/plain": "  0%|          | 0/4542 [00:00<?, ?it/s]",
      "application/vnd.jupyter.widget-view+json": {
       "version_major": 2,
       "version_minor": 0,
       "model_id": "55a5d2101e5f412ebd36395c79fc1b67"
      }
     },
     "metadata": {},
     "output_type": "display_data"
    },
    {
     "name": "stdout",
     "output_type": "stream",
     "text": [
      "Extracting ./data/MNIST/raw/t10k-labels-idx1-ubyte.gz to ./data/MNIST/raw\n",
      "\n",
      "epcho: 0, step: 0, d_loss: 0.9863070249557495, g_loss: 0.6661617755889893\n",
      "epcho: 0, step: 1, d_loss: 0.5455647110939026, g_loss: 0.5273696780204773\n",
      "epcho: 0, step: 2, d_loss: 0.4890004098415375, g_loss: 0.483540415763855\n",
      "epcho: 0, step: 3, d_loss: 0.4529687464237213, g_loss: 0.43814554810523987\n",
      "epcho: 0, step: 4, d_loss: 0.3981948494911194, g_loss: 0.3870776295661926\n",
      "epcho: 0, step: 5, d_loss: 0.3742082715034485, g_loss: 0.34955674409866333\n",
      "epcho: 0, step: 6, d_loss: 0.3419572710990906, g_loss: 0.32941561937332153\n",
      "epcho: 0, step: 7, d_loss: 0.32711756229400635, g_loss: 0.322695255279541\n",
      "epcho: 0, step: 8, d_loss: 0.3005814254283905, g_loss: 0.2948065400123596\n",
      "epcho: 0, step: 9, d_loss: 0.2811456322669983, g_loss: 0.2592352032661438\n",
      "epcho: 0, step: 10, d_loss: 0.25366082787513733, g_loss: 0.24108470976352692\n",
      "epcho: 0, step: 11, d_loss: 0.2392740249633789, g_loss: 0.22670021653175354\n",
      "epcho: 0, step: 12, d_loss: 0.21587832272052765, g_loss: 0.20876094698905945\n",
      "epcho: 0, step: 13, d_loss: 0.19909340143203735, g_loss: 0.17314907908439636\n",
      "epcho: 0, step: 14, d_loss: 0.1691470593214035, g_loss: 0.16187064349651337\n",
      "epcho: 0, step: 15, d_loss: 0.16117049753665924, g_loss: 0.1603289246559143\n",
      "epcho: 0, step: 16, d_loss: 0.15522822737693787, g_loss: 0.1350071132183075\n",
      "epcho: 0, step: 17, d_loss: 0.13228678703308105, g_loss: 0.12817491590976715\n",
      "epcho: 0, step: 18, d_loss: 0.1259935200214386, g_loss: 0.12079215794801712\n",
      "epcho: 0, step: 19, d_loss: 0.11872667819261551, g_loss: 0.11493905633687973\n",
      "epcho: 0, step: 20, d_loss: 0.11199188977479935, g_loss: 0.11195852607488632\n",
      "epcho: 0, step: 21, d_loss: 0.11054235696792603, g_loss: 0.11032126098871231\n",
      "epcho: 0, step: 22, d_loss: 0.10788880288600922, g_loss: 0.09898699074983597\n",
      "epcho: 0, step: 23, d_loss: 0.09762725979089737, g_loss: 0.08692620694637299\n",
      "epcho: 0, step: 24, d_loss: 0.08668308705091476, g_loss: 0.08599810302257538\n",
      "epcho: 0, step: 25, d_loss: 0.0859277993440628, g_loss: 0.07695206999778748\n",
      "epcho: 0, step: 26, d_loss: 0.07534784823656082, g_loss: 0.07299044728279114\n",
      "epcho: 0, step: 27, d_loss: 0.07230407744646072, g_loss: 0.06894148886203766\n",
      "epcho: 0, step: 28, d_loss: 0.0678420215845108, g_loss: 0.06588166207075119\n",
      "epcho: 0, step: 29, d_loss: 0.06512203812599182, g_loss: 0.06099806725978851\n",
      "epcho: 0, step: 30, d_loss: 0.06097603216767311, g_loss: 0.05931457132101059\n",
      "epcho: 0, step: 31, d_loss: 0.05840545892715454, g_loss: 0.05816352739930153\n",
      "epcho: 0, step: 32, d_loss: 0.05747673660516739, g_loss: 0.05519618093967438\n",
      "epcho: 0, step: 33, d_loss: 0.05515323579311371, g_loss: 0.05222954601049423\n",
      "epcho: 0, step: 34, d_loss: 0.05191033333539963, g_loss: 0.05157559737563133\n",
      "epcho: 0, step: 35, d_loss: 0.05138535052537918, g_loss: 0.050474245101213455\n",
      "epcho: 0, step: 36, d_loss: 0.05026237666606903, g_loss: 0.04839838668704033\n",
      "epcho: 0, step: 37, d_loss: 0.04822753742337227, g_loss: 0.04507256671786308\n",
      "epcho: 0, step: 38, d_loss: 0.044542212039232254, g_loss: 0.04389363154768944\n",
      "epcho: 0, step: 39, d_loss: 0.04338974133133888, g_loss: 0.04121629148721695\n",
      "epcho: 0, step: 40, d_loss: 0.040753189474344254, g_loss: 0.03535938635468483\n",
      "epcho: 0, step: 41, d_loss: 0.03509349003434181, g_loss: 0.03378729522228241\n",
      "epcho: 0, step: 42, d_loss: 0.03349265456199646, g_loss: 0.03140231594443321\n",
      "epcho: 0, step: 43, d_loss: 0.031081190332770348, g_loss: 0.030110031366348267\n",
      "epcho: 0, step: 44, d_loss: 0.029946690425276756, g_loss: 0.029859555885195732\n",
      "epcho: 0, step: 45, d_loss: 0.02980545163154602, g_loss: 0.027519792318344116\n",
      "epcho: 0, step: 46, d_loss: 0.027481522411108017, g_loss: 0.02473485842347145\n",
      "epcho: 0, step: 47, d_loss: 0.02449074015021324, g_loss: 0.023939695209264755\n",
      "epcho: 0, step: 48, d_loss: 0.023922372609376907, g_loss: 0.021412163972854614\n",
      "epcho: 0, step: 49, d_loss: 0.02140655741095543, g_loss: 0.021093908697366714\n",
      "epcho: 0, step: 50, d_loss: 0.02093599922955036, g_loss: 0.019603881984949112\n",
      "epcho: 0, step: 51, d_loss: 0.019495928660035133, g_loss: 0.019222548231482506\n",
      "epcho: 0, step: 52, d_loss: 0.019194427877664566, g_loss: 0.01704302430152893\n",
      "epcho: 0, step: 53, d_loss: 0.016891732811927795, g_loss: 0.016282789409160614\n",
      "epcho: 0, step: 54, d_loss: 0.01625736430287361, g_loss: 0.016210945323109627\n",
      "epcho: 0, step: 55, d_loss: 0.016146734356880188, g_loss: 0.015443495474755764\n",
      "epcho: 0, step: 56, d_loss: 0.01541723869740963, g_loss: 0.014685578644275665\n",
      "epcho: 0, step: 57, d_loss: 0.01467607170343399, g_loss: 0.011288455687463284\n",
      "epcho: 0, step: 58, d_loss: 0.011221934109926224, g_loss: 0.010768013074994087\n",
      "epcho: 0, step: 59, d_loss: 0.010766214691102505, g_loss: 0.010482681915163994\n",
      "epcho: 0, step: 60, d_loss: 0.010479796677827835, g_loss: 0.008665112778544426\n",
      "epcho: 0, step: 61, d_loss: 0.008653366006910801, g_loss: 0.007738124579191208\n",
      "epcho: 0, step: 62, d_loss: 0.007723410613834858, g_loss: 0.007686754688620567\n",
      "epcho: 0, step: 63, d_loss: 0.00766447139903903, g_loss: 0.007107757031917572\n",
      "epcho: 0, step: 64, d_loss: 0.007102350704371929, g_loss: 0.006941135972738266\n",
      "epcho: 0, step: 65, d_loss: 0.006892132572829723, g_loss: 0.006275232881307602\n",
      "epcho: 0, step: 66, d_loss: 0.006270179525017738, g_loss: 0.006216727197170258\n",
      "epcho: 0, step: 67, d_loss: 0.006184217985719442, g_loss: 0.006002902984619141\n",
      "epcho: 0, step: 68, d_loss: 0.005994254257529974, g_loss: 0.005661478266119957\n",
      "epcho: 0, step: 69, d_loss: 0.005644666496664286, g_loss: 0.004668870009481907\n",
      "epcho: 0, step: 70, d_loss: 0.00466862041503191, g_loss: 0.00465137604624033\n",
      "epcho: 0, step: 71, d_loss: 0.004637350793927908, g_loss: 0.004584171809256077\n",
      "epcho: 0, step: 72, d_loss: 0.004581420216709375, g_loss: 0.004403464496135712\n",
      "epcho: 0, step: 73, d_loss: 0.004367360379546881, g_loss: 0.0041563743725419044\n",
      "epcho: 0, step: 74, d_loss: 0.0041334484703838825, g_loss: 0.004002012312412262\n",
      "epcho: 0, step: 75, d_loss: 0.0039856648072600365, g_loss: 0.0031694304198026657\n",
      "epcho: 0, step: 76, d_loss: 0.0031541381031274796, g_loss: 0.0030659623444080353\n",
      "epcho: 0, step: 77, d_loss: 0.0030487605836242437, g_loss: 0.002892090007662773\n",
      "epcho: 0, step: 78, d_loss: 0.002887711627408862, g_loss: 0.002087229862809181\n",
      "epcho: 0, step: 79, d_loss: 0.002077076118439436, g_loss: 0.0015549715608358383\n",
      "epcho: 0, step: 80, d_loss: 0.0015531134558841586, g_loss: 0.0010944176465272903\n",
      "epcho: 0, step: 81, d_loss: 0.001091429265215993, g_loss: 0.0009927097707986832\n",
      "epcho: 0, step: 82, d_loss: 0.0009869911009445786, g_loss: 0.0009485054761171341\n",
      "epcho: 0, step: 83, d_loss: 0.000940222293138504, g_loss: 0.0006556408479809761\n",
      "epcho: 0, step: 84, d_loss: 0.000654868024867028, g_loss: 0.0006401557475328445\n",
      "epcho: 0, step: 85, d_loss: 0.000637529359664768, g_loss: 0.000612952746450901\n",
      "epcho: 0, step: 86, d_loss: 0.0006045352201908827, g_loss: 0.0005972441285848618\n",
      "epcho: 0, step: 87, d_loss: 0.0005920979892835021, g_loss: 0.0005123168230056763\n",
      "epcho: 0, step: 88, d_loss: 0.0005091623170301318, g_loss: 0.0004868553951382637\n",
      "epcho: 0, step: 89, d_loss: 0.0004853348364122212, g_loss: 0.0004489179700613022\n",
      "epcho: 0, step: 90, d_loss: 0.000442636403022334, g_loss: 0.00041549280285835266\n",
      "epcho: 0, step: 91, d_loss: 0.00041493389289826155, g_loss: 0.00040323473513126373\n",
      "epcho: 0, step: 92, d_loss: 0.00039663113420829177, g_loss: 0.0003919443115592003\n",
      "epcho: 0, step: 93, d_loss: 0.0003848002525046468, g_loss: 0.0003574518486857414\n",
      "epcho: 0, step: 94, d_loss: 0.0003530631656758487, g_loss: 0.00033411942422389984\n",
      "epcho: 0, step: 95, d_loss: 0.000327759567881003, g_loss: 0.0002622399479150772\n",
      "epcho: 0, step: 96, d_loss: 0.00025683690910227597, g_loss: 0.00022924505174160004\n",
      "epcho: 0, step: 97, d_loss: 0.00022599019575864077, g_loss: 0.0001996103674173355\n",
      "epcho: 0, step: 98, d_loss: 0.00019521555805113167, g_loss: 0.0001912219449877739\n",
      "epcho: 0, step: 99, d_loss: 0.0001892338041216135, g_loss: 0.00017651449888944626\n",
      "epcho: 0, step: 100, d_loss: 0.00017201293667312711, g_loss: 0.000155596062541008\n",
      "epcho: 0, step: 101, d_loss: 0.00015361036639660597, g_loss: 0.00015344936400651932\n"
     ]
    }
   ],
   "source": [
    "import torch\n",
    "import torchvision\n",
    "import torchvision.transforms as transforms\n",
    "import matplotlib.pyplot as plt\n",
    "from torch.utils.tensorboard import SummaryWriter\n",
    "\n",
    "writer = SummaryWriter(\"logs\")\n",
    "transform = transforms.Compose([\n",
    "    transforms.ToTensor(),\n",
    "    transforms.Normalize((0.5), (0.5))\n",
    "])\n",
    "mnist_data = torchvision.datasets.MNIST(train=True, download=True, root=\"./data\", transform=transform)\n",
    "data_loader = torch.utils.data.DataLoader(mnist_data, batch_size=64, shuffle=True)\n",
    "\n",
    "\n",
    "class Generator(torch.nn.Module):\n",
    "    def __init__(self):\n",
    "        super().__init__()\n",
    "\n",
    "        self.leaky_relu = torch.nn.LeakyReLU(0.2)\n",
    "\n",
    "        self.conv1 = torch.nn.ConvTranspose2d(100, 32, 4, 1, 0)\n",
    "        self.bn1 = torch.nn.BatchNorm2d(32)\n",
    "\n",
    "        self.conv2 = torch.nn.ConvTranspose2d(32, 16, 4, 2, 1)\n",
    "        self.bn2 = torch.nn.BatchNorm2d(16)\n",
    "\n",
    "        self.conv3 = torch.nn.ConvTranspose2d(16, 8, 4, 2, 1)\n",
    "        self.bn3 = torch.nn.BatchNorm2d(8)\n",
    "\n",
    "        self.conv4 = torch.nn.ConvTranspose2d(8, 1, 4, 2, 3)\n",
    "        self.tanh = torch.nn.Tanh()\n",
    "\n",
    "    def forward(self, x):\n",
    "        x = x.reshape(-1, 100, 1, 1)\n",
    "        x = self.leaky_relu(self.bn1(self.conv1(x)))\n",
    "        x = self.leaky_relu(self.bn2(self.conv2(x)))\n",
    "        x = self.leaky_relu(self.bn3(self.conv3(x)))\n",
    "        x = self.tanh(self.conv4(x))\n",
    "        return x\n",
    "\n",
    "\n",
    "class Discriminator(torch.nn.Module):\n",
    "    def __init__(self):\n",
    "        super().__init__()\n",
    "\n",
    "        self.relu = torch.nn.ReLU(0.2)\n",
    "\n",
    "        self.conv1 = torch.nn.Conv2d(1, 8, 4, 2, 3)\n",
    "        self.bn1 = torch.nn.BatchNorm2d(8)\n",
    "\n",
    "        self.conv2 = torch.nn.Conv2d(8, 16, 4, 2, 1)\n",
    "        self.bn2 = torch.nn.BatchNorm2d(16)\n",
    "\n",
    "        self.conv3 = torch.nn.Conv2d(16, 32, 4, 2, 1)\n",
    "        self.bn3 = torch.nn.BatchNorm2d(32)\n",
    "\n",
    "        self.conv4 = torch.nn.Conv2d(32, 1, 4, 1, 0)\n",
    "        self.sigmoid = torch.nn.Sigmoid()\n",
    "\n",
    "    def forward(self, x):\n",
    "        x = self.relu(self.bn1(self.conv1(x)))\n",
    "        x = self.relu(self.bn2(self.conv2(x)))\n",
    "        x = self.relu(self.bn3(self.conv3(x)))\n",
    "        x = self.sigmoid(self.conv4(x))\n",
    "        return x\n",
    "\n",
    "\n",
    "generator = Generator()\n",
    "discriminator = Discriminator()\n",
    "\n",
    "g_opt = torch.optim.RMSprop(generator.parameters(), lr=0.0002)\n",
    "d_opt = torch.optim.RMSprop(discriminator.parameters(), lr=0.0002)\n",
    "\n",
    "device = torch.device(\"cuda:0\" if torch.cuda.is_available() else \"cpu\")\n",
    "generator = generator.to(device)\n",
    "discriminator = discriminator.to(device)\n",
    "bce_loss = torch.nn.BCELoss()\n",
    "g_loss_list = []\n",
    "d_loss_list = []\n",
    "for epcho in range(200):\n",
    "    running_g_loss = 0.0\n",
    "    running_d_loss = 0.0\n",
    "    g_loss = d_loss = 1\n",
    "    for step, (x, y) in enumerate(data_loader):\n",
    "        batch_size = x.size()[0]\n",
    "\n",
    "        real_label = torch.ones(batch_size, 1)\n",
    "        fake_label = torch.zeros(batch_size, 1)\n",
    "\n",
    "        noise = torch.randn(batch_size, 100)\n",
    "\n",
    "        real_image = x\n",
    "        while d_loss >= g_loss:\n",
    "            fake_image = generator(noise.to(device))\n",
    "\n",
    "            p_r = discriminator(real_image.to(device))\n",
    "            p_g = discriminator(fake_image.to(device))\n",
    "\n",
    "            # d_loss = bce_loss(p_r.reshape(-1, 1), real_label.to(device)) + bce_loss(p_g.reshape(-1, 1), fake_label.to(device))\n",
    "            d_loss = (-torch.log(0.001+p_r.reshape(-1, 1))) - (torch.log(1 - (p_g.reshape(-1, 1))))\n",
    "            d_loss = d_loss.mean()\n",
    "            d_opt.zero_grad()\n",
    "            d_loss.backward()\n",
    "            d_opt.step()\n",
    "        #d_loss_list.append(d_loss.item())\n",
    "        for p in discriminator.parameters():\n",
    "            p.data.clamp_(-1, 1)\n",
    "        while d_loss <= g_loss:\n",
    "            noise = torch.randn(batch_size, 100)\n",
    "            fake_image = generator(noise.to(device))\n",
    "            p_g = discriminator(fake_image.to(device))\n",
    "            # g_loss = bce_loss(p_g.reshape(-1, 1), real_label.to(device))\n",
    "            g_loss = 1 - (p_g.reshape(-1, 1))\n",
    "            g_loss = g_loss.mean()\n",
    "            g_opt.zero_grad()\n",
    "            g_loss.backward()\n",
    "            g_opt.step()\n",
    "        print(\"epcho: {}, step: {}, d_loss: {}, g_loss: {}\".format(epcho, step, d_loss.item(), g_loss.item()))\n",
    "        #g_loss_list.append(g_loss.item())\n",
    "        running_g_loss += g_loss.item()\n",
    "        running_d_loss += d_loss.item()\n",
    "    writer.add_scalar(\"d-conv1\", discriminator.conv1.weight.grad.mean(), epcho)\n",
    "    writer.add_scalar(\"d-conv2\", discriminator.conv2.weight.grad.mean(), epcho)\n",
    "    writer.add_scalar(\"d-conv3\", discriminator.conv3.weight.grad.mean(), epcho)\n",
    "    writer.add_scalar(\"d-conv4\", discriminator.conv4.weight.grad.mean(), epcho)\n",
    "    writer.add_scalar(\"g-conv1\", generator.conv1.weight.grad.mean(), epcho)\n",
    "    writer.add_scalar(\"g-conv2\", generator.conv2.weight.grad.mean(), epcho)\n",
    "    writer.add_scalar(\"g-conv3\", generator.conv3.weight.grad.mean(), epcho)\n",
    "    writer.add_scalar(\"g-conv4\", generator.conv4.weight.grad.mean(), epcho)\n",
    "    print(\"Epoch: {}, G Loss: {}, D Loss: {}\".format(epcho, running_g_loss / len(data_loader),\n",
    "                                                     running_d_loss / len(data_loader)))\n",
    "    d_loss_list.append(running_d_loss / len(data_loader))\n",
    "    g_loss_list.append(running_g_loss / len(data_loader))\n",
    "    plt.plot(g_loss_list, label=\"G\")\n",
    "    plt.plot(d_loss_list, label=\"D\")\n",
    "    plt.show()\n",
    "    noise = torch.randn(5, 100)\n",
    "    fake_image = generator(noise.to(device))\n",
    "    plt.figure()\n",
    "    for i in range(5):\n",
    "        plt.subplot(1, 5, i + 1)\n",
    "        plt.imshow(fake_image[i, 0].cpu().detach().numpy())\n",
    "    plt.show()"
   ],
   "metadata": {
    "collapsed": false,
    "pycharm": {
     "is_executing": true
    }
   }
  },
  {
   "cell_type": "code",
   "execution_count": null,
   "outputs": [],
   "source": [
    "1"
   ],
   "metadata": {
    "collapsed": false
   }
  },
  {
   "cell_type": "code",
   "execution_count": 28,
   "outputs": [
    {
     "data": {
      "text/plain": "<Figure size 432x288 with 10 Axes>",
      "image/png": "[encoded data removed]"
     },
     "metadata": {
      "needs_background": "light"
     },
     "output_type": "display_data"
    }
   ],
   "source": [
    "noise = torch.randn(10, 100)\n",
    "fake_image = generator(noise.to(device))\n",
    "plt.figure()\n",
    "for i in range(10):\n",
    "    plt.subplot(1, 10, i + 1)\n",
    "    plt.imshow(fake_image[i, 0].cpu().detach().numpy())\n",
    "plt.show()"
   ],
   "metadata": {
    "collapsed": false
   }
  },
  {
   "cell_type": "code",
   "execution_count": null,
   "outputs": [],
   "source": [],
   "metadata": {
    "collapsed": false
   }
  },
  {
   "cell_type": "code",
   "execution_count": null,
   "outputs": [],
   "source": [
    "1"
   ],
   "metadata": {
    "collapsed": false
   }
  },
  {
   "cell_type": "code",
   "execution_count": null,
   "outputs": [],
   "source": [
    "# V0-D\n",
    "# V0-G"
   ],
   "metadata": {
    "collapsed": false
   }
  },
  {
   "cell_type": "code",
   "execution_count": null,
   "outputs": [],
   "source": [
    "# V1-D:Pr + Pg0 = Pd1  >> Pd0 -> Pd1\n",
    "# V1-G:Pg = Pg1        >> Pg0 -> Pg1"
   ],
   "metadata": {
    "collapsed": false
   }
  },
  {
   "cell_type": "code",
   "execution_count": null,
   "outputs": [],
   "source": [
    "# V2-D:Pr + Pg1 = Pd2  >> Pd1 -> Pd2\n",
    "# V2-G:Pg = Pg2        >> Pg1 -> Pg2"
   ],
   "metadata": {
    "collapsed": false
   }
  },
  {
   "cell_type": "code",
   "execution_count": null,
   "outputs": [],
   "source": [
    "# 梯度消失"
   ],
   "metadata": {
    "collapsed": false,
    "pycharm": {
     "is_executing": true
    }
   }
  },
  {
   "cell_type": "code",
   "execution_count": 29,
   "outputs": [
    {
     "data": {
      "text/plain": "2.0"
     },
     "execution_count": 29,
     "metadata": {},
     "output_type": "execute_result"
    }
   ],
   "source": [
    "torch.Tensor([2]).item()"
   ],
   "metadata": {
    "collapsed": false
   }
  }
 ],
 "metadata": {
  "kernelspec": {
   "display_name": "Python 3",
   "language": "python",
   "name": "python3"
  },
  "language_info": {
   "codemirror_mode": {
    "name": "ipython",
    "version": 2
   },
   "file_extension": ".py",
   "mimetype": "text/x-python",
   "name": "python",
   "nbconvert_exporter": "python",
   "pygments_lexer": "ipython2",
   "version": "2.7.6"
  }
 },
 "nbformat": 4,
 "nbformat_minor": 0
}
